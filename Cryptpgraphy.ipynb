{
  "nbformat": 4,
  "nbformat_minor": 0,
  "metadata": {
    "colab": {
      "name": "Untitled7.ipynb",
      "provenance": [],
      "include_colab_link": true
    },
    "kernelspec": {
      "name": "python3",
      "display_name": "Python 3"
    }
  },
  "cells": [
    {
      "cell_type": "markdown",
      "metadata": {
        "id": "view-in-github",
        "colab_type": "text"
      },
      "source": [
        "<a href=\"https://colab.research.google.com/github/AlizaShamsi/Homework-1/blob/main/Cryptpgraphy.ipynb\" target=\"_parent\"><img src=\"https://colab.research.google.com/assets/colab-badge.svg\" alt=\"Open In Colab\"/></a>"
      ]
    },
    {
      "cell_type": "code",
      "metadata": {
        "id": "yFv8vPZHO6TQ"
      },
      "source": [
        ""
      ],
      "execution_count": null,
      "outputs": []
    },
    {
      "cell_type": "code",
      "metadata": {
        "id": "yDAlPPINO78L"
      },
      "source": [
        "s= input(\"Enter sting: \")\n",
        "k= int(input(\"enter key\"))"
      ],
      "execution_count": null,
      "outputs": []
    },
    {
      "cell_type": "markdown",
      "metadata": {
        "id": "I-LFztqBQ5Si"
      },
      "source": [
        ""
      ]
    },
    {
      "cell_type": "code",
      "metadata": {
        "colab": {
          "base_uri": "https://localhost:8080/"
        },
        "id": "-CFJFl1CPRfx",
        "outputId": "f9cca173-c104-4f80-eb60-1d0f5b0c86ef"
      },
      "source": [
        "enc= [[ \" \"for i in range(len(s))] for j in range(k)]\r\n",
        "print(enc)"
      ],
      "execution_count": null,
      "outputs": [
        {
          "output_type": "stream",
          "text": [
            "[[' ', ' ', ' ', ' ', ' ', ' ', ' ', ' ', ' ', ' ', ' ', ' ', ' ', ' ', ' ', ' ', ' ', ' ', ' ', ' '], [' ', ' ', ' ', ' ', ' ', ' ', ' ', ' ', ' ', ' ', ' ', ' ', ' ', ' ', ' ', ' ', ' ', ' ', ' ', ' '], [' ', ' ', ' ', ' ', ' ', ' ', ' ', ' ', ' ', ' ', ' ', ' ', ' ', ' ', ' ', ' ', ' ', ' ', ' ', ' ']]\n"
          ],
          "name": "stdout"
        }
      ]
    },
    {
      "cell_type": "code",
      "metadata": {
        "id": "p2NtMFjpPkjR"
      },
      "source": [
        "flag=0\r\n",
        "row=0\r\n",
        "for i in range(len(s)):\r\n",
        "  enc[row][i]= s[i]\r\n",
        "  if row==0:\r\n",
        "    flag=0\r\n",
        "  elif row==k-1:\r\n",
        "      flag=1\r\n",
        "  if flag==0:\r\n",
        "    row+=1\r\n",
        "  else:\r\n",
        "    row-=1\r\n"
      ],
      "execution_count": null,
      "outputs": []
    },
    {
      "cell_type": "code",
      "metadata": {
        "colab": {
          "base_uri": "https://localhost:8080/"
        },
        "id": "ry5GgSJrQENp",
        "outputId": "2da2f285-9ee8-4535-e756-ac501e6a30c8"
      },
      "source": [
        "for i in range(k):\r\n",
        "  print(\"\".join(enc[i]))"
      ],
      "execution_count": null,
      "outputs": [
        {
          "output_type": "stream",
          "text": [
            "I   R   I   S   R   \n",
            " N O M T O   E U I Y\n",
            "  F   A   N   C   T \n"
          ],
          "name": "stdout"
        }
      ]
    },
    {
      "cell_type": "code",
      "metadata": {
        "colab": {
          "base_uri": "https://localhost:8080/"
        },
        "id": "PUa7ngh4QZ3w",
        "outputId": "071359b7-1bc3-4e54-a4fc-e8d2d74f08c2"
      },
      "source": [
        "ct=[]\r\n",
        "for i in range(k):\r\n",
        "    for j in range(len(s)):\r\n",
        "        if enc[i][j]!=' ':\r\n",
        "            ct.append(enc[i][j])\r\n",
        "cipher=\"\".join(ct)\r\n",
        "print(\"Cipher Text: \",cipher)"
      ],
      "execution_count": null,
      "outputs": [
        {
          "output_type": "stream",
          "text": [
            "Cipher Text:  IRISRNOMTOEUIYFANCT\n"
          ],
          "name": "stdout"
        }
      ]
    }
  ]
}